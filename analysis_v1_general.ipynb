{
 "cells": [
  {
   "cell_type": "code",
   "execution_count": 1,
   "metadata": {},
   "outputs": [],
   "source": [
    "import pandas as pd\n",
    "import json\n",
    "from matplotlib import pyplot as plt\n",
    "import seaborn as sns\n",
    "sns.set_theme(style=\"darkgrid\")\n",
    "%matplotlib inline"
   ]
  },
  {
   "cell_type": "code",
   "execution_count": 2,
   "metadata": {},
   "outputs": [],
   "source": [
    "def openJson(fileName):\n",
    "    result = dict()\n",
    "    with open('data/jsons/' + fileName) as f:\n",
    "        result = json.load(f)\n",
    "    return result\n",
    "\n",
    "def writeJson(fileName, item):\n",
    "    result = dict()\n",
    "    with open('data/jsons/' + fileName,'w') as f:\n",
    "        result = json.dump(item ,f)\n",
    "    \n",
    "    "
   ]
  },
  {
   "cell_type": "code",
   "execution_count": 3,
   "metadata": {},
   "outputs": [],
   "source": [
    " week1 = openJson('city10mean.json')"
   ]
  },
  {
   "cell_type": "code",
   "execution_count": 4,
   "metadata": {
    "scrolled": true
   },
   "outputs": [],
   "source": [
    "week2 = openJson('city10mean_wk2.json')"
   ]
  },
  {
   "cell_type": "code",
   "execution_count": 5,
   "metadata": {},
   "outputs": [],
   "source": [
    "week3 = openJson('city10mean_wk3.json')"
   ]
  },
  {
   "cell_type": "code",
   "execution_count": 6,
   "metadata": {},
   "outputs": [],
   "source": [
    "week4 = openJson('city10mean_wk4.json')"
   ]
  },
  {
   "cell_type": "code",
   "execution_count": 7,
   "metadata": {},
   "outputs": [],
   "source": [
    "week5 = openJson('city10mean_wk5.json')"
   ]
  },
  {
   "cell_type": "code",
   "execution_count": 8,
   "metadata": {},
   "outputs": [],
   "source": [
    "week6 = openJson('city10mean_wk6.json')"
   ]
  },
  {
   "cell_type": "code",
   "execution_count": 9,
   "metadata": {},
   "outputs": [],
   "source": [
    "week7 = openJson('city10mean_wk7.json')\n",
    "week8 = openJson('city10mean_wk8.json')"
   ]
  },
  {
   "cell_type": "code",
   "execution_count": 10,
   "metadata": {},
   "outputs": [],
   "source": [
    "myCities = dict()\n",
    "l_cities = [\n",
    "    'newyork - ny',\n",
    "    'los-angeles-ca',\n",
    "    'san-francisco-ca',\n",
    "    'denver-co',\n",
    "    'washington-dc',\n",
    "    'miami-fl',\n",
    "    'chicago-il',\n",
    "    'dallas-tx',\n",
    "    'austin-tx',\n",
    "    'boulder-co'\n",
    "]"
   ]
  },
  {
   "cell_type": "code",
   "execution_count": 11,
   "metadata": {},
   "outputs": [],
   "source": [
    "for city in l_cities: \n",
    "    myCities[city] = list()\n",
    "    myCities[city].append(week1[city])\n",
    "    myCities[city].append(week2[city])\n",
    "    myCities[city].append(week3[city])\n",
    "    myCities[city].append(week4[city])\n",
    "    myCities[city].append(week5[city])\n",
    "    myCities[city].append(week6[city])\n",
    "    myCities[city].append(week7[city])\n",
    "    myCities[city].append(week8[city])\n",
    "\n"
   ]
  },
  {
   "cell_type": "code",
   "execution_count": 12,
   "metadata": {},
   "outputs": [
    {
     "data": {
      "text/plain": [
       "{'newyork - ny': [2743, 2666, 2474, 2112, 2477, 2491, 2557, 2310],\n",
       " 'los-angeles-ca': [2756, 2752, 2747, 2742, 2758, 2775, 2781, 2794],\n",
       " 'san-francisco-ca': [3212, 3069, 2945, 3086, 3103, 3007, 2861, 2900],\n",
       " 'denver-co': [1815, 1786, 1807, 1820, 1937, 1803, 1830, 1830],\n",
       " 'washington-dc': [2467, 2404, 2400, 2396, 2375, 2353, 2316, 2316],\n",
       " 'miami-fl': [1848, 1809, 1838, 1809, 1865, 1894, 1941, 1982],\n",
       " 'chicago-il': [1868, 1882, 1878, 1864, 1856, 1837, 1804, 1814],\n",
       " 'dallas-tx': [1351, 1297, 1346, 1352, 1356, 1348, 1359, 1348],\n",
       " 'austin-tx': [1382, 1368, 1356, 1363, 1362, 1363, 1367, 1358],\n",
       " 'boulder-co': [1943, 1888, 1864, 1823, 1842, 1900, 1882, 1929]}"
      ]
     },
     "execution_count": 12,
     "metadata": {},
     "output_type": "execute_result"
    }
   ],
   "source": [
    "myCities"
   ]
  },
  {
   "cell_type": "code",
   "execution_count": 13,
   "metadata": {},
   "outputs": [],
   "source": [
    "writeJson('data_7wks.json', myCities)"
   ]
  },
  {
   "cell_type": "code",
   "execution_count": 14,
   "metadata": {},
   "outputs": [],
   "source": [
    "df = pd.read_json('data/jsons/data_7wks.json')"
   ]
  },
  {
   "cell_type": "code",
   "execution_count": 15,
   "metadata": {},
   "outputs": [],
   "source": [
    "a4_dims = (11.7, 8.27)\n"
   ]
  },
  {
   "cell_type": "code",
   "execution_count": 16,
   "metadata": {},
   "outputs": [
    {
     "data": {
      "text/plain": [
       "<AxesSubplot:ylabel='newyork - ny'>"
      ]
     },
     "execution_count": 16,
     "metadata": {},
     "output_type": "execute_result"
    },
    {
     "data": {
      "image/png": "[encoded data removed]",
      "text/plain": [
       "<Figure size 432x288 with 1 Axes>"
      ]
     },
     "metadata": {
      "needs_background": "light"
     },
     "output_type": "display_data"
    }
   ],
   "source": [
    "sns.lineplot(data=df['newyork - ny'])"
   ]
  },
  {
   "cell_type": "code",
   "execution_count": 19,
   "metadata": {},
   "outputs": [],
   "source": [
    "data = ['Aug 30th, 2020', 'Sept 3rd, 2020', 'Sept 13, 2020','Sept 20, 2020','Sept 27, 2020','Oct 5, 2020','Oct 25, 2020','Nov 2, 2020']"
   ]
  },
  {
   "cell_type": "code",
   "execution_count": 20,
   "metadata": {},
   "outputs": [],
   "source": [
    "df['date'] = data"
   ]
  },
  {
   "cell_type": "code",
   "execution_count": 21,
   "metadata": {},
   "outputs": [],
   "source": [
    "df.set_index('date', inplace =True)"
   ]
  },
  {
   "cell_type": "code",
   "execution_count": 22,
   "metadata": {},
   "outputs": [
    {
     "data": {
      "text/html": [
       "<div>\n",
       "<style scoped>\n",
       "    .dataframe tbody tr th:only-of-type {\n",
       "        vertical-align: middle;\n",
       "    }\n",
       "\n",
       "    .dataframe tbody tr th {\n",
       "        vertical-align: top;\n",
       "    }\n",
       "\n",
       "    .dataframe thead th {\n",
       "        text-align: right;\n",
       "    }\n",
       "</style>\n",
       "<table border=\"1\" class=\"dataframe\">\n",
       "  <thead>\n",
       "    <tr style=\"text-align: right;\">\n",
       "      <th></th>\n",
       "      <th>newyork - ny</th>\n",
       "      <th>los-angeles-ca</th>\n",
       "      <th>san-francisco-ca</th>\n",
       "      <th>denver-co</th>\n",
       "      <th>washington-dc</th>\n",
       "      <th>miami-fl</th>\n",
       "      <th>chicago-il</th>\n",
       "      <th>dallas-tx</th>\n",
       "      <th>austin-tx</th>\n",
       "      <th>boulder-co</th>\n",
       "    </tr>\n",
       "    <tr>\n",
       "      <th>date</th>\n",
       "      <th></th>\n",
       "      <th></th>\n",
       "      <th></th>\n",
       "      <th></th>\n",
       "      <th></th>\n",
       "      <th></th>\n",
       "      <th></th>\n",
       "      <th></th>\n",
       "      <th></th>\n",
       "      <th></th>\n",
       "    </tr>\n",
       "  </thead>\n",
       "  <tbody>\n",
       "    <tr>\n",
       "      <th>Aug 30th, 2020</th>\n",
       "      <td>2743</td>\n",
       "      <td>2756</td>\n",
       "      <td>3212</td>\n",
       "      <td>1815</td>\n",
       "      <td>2467</td>\n",
       "      <td>1848</td>\n",
       "      <td>1868</td>\n",
       "      <td>1351</td>\n",
       "      <td>1382</td>\n",
       "      <td>1943</td>\n",
       "    </tr>\n",
       "    <tr>\n",
       "      <th>Sept 3rd, 2020</th>\n",
       "      <td>2666</td>\n",
       "      <td>2752</td>\n",
       "      <td>3069</td>\n",
       "      <td>1786</td>\n",
       "      <td>2404</td>\n",
       "      <td>1809</td>\n",
       "      <td>1882</td>\n",
       "      <td>1297</td>\n",
       "      <td>1368</td>\n",
       "      <td>1888</td>\n",
       "    </tr>\n",
       "    <tr>\n",
       "      <th>Sept 13, 2020</th>\n",
       "      <td>2474</td>\n",
       "      <td>2747</td>\n",
       "      <td>2945</td>\n",
       "      <td>1807</td>\n",
       "      <td>2400</td>\n",
       "      <td>1838</td>\n",
       "      <td>1878</td>\n",
       "      <td>1346</td>\n",
       "      <td>1356</td>\n",
       "      <td>1864</td>\n",
       "    </tr>\n",
       "    <tr>\n",
       "      <th>Sept 20, 2020</th>\n",
       "      <td>2112</td>\n",
       "      <td>2742</td>\n",
       "      <td>3086</td>\n",
       "      <td>1820</td>\n",
       "      <td>2396</td>\n",
       "      <td>1809</td>\n",
       "      <td>1864</td>\n",
       "      <td>1352</td>\n",
       "      <td>1363</td>\n",
       "      <td>1823</td>\n",
       "    </tr>\n",
       "    <tr>\n",
       "      <th>Sept 27, 2020</th>\n",
       "      <td>2477</td>\n",
       "      <td>2758</td>\n",
       "      <td>3103</td>\n",
       "      <td>1937</td>\n",
       "      <td>2375</td>\n",
       "      <td>1865</td>\n",
       "      <td>1856</td>\n",
       "      <td>1356</td>\n",
       "      <td>1362</td>\n",
       "      <td>1842</td>\n",
       "    </tr>\n",
       "    <tr>\n",
       "      <th>Oct 5, 2020</th>\n",
       "      <td>2491</td>\n",
       "      <td>2775</td>\n",
       "      <td>3007</td>\n",
       "      <td>1803</td>\n",
       "      <td>2353</td>\n",
       "      <td>1894</td>\n",
       "      <td>1837</td>\n",
       "      <td>1348</td>\n",
       "      <td>1363</td>\n",
       "      <td>1900</td>\n",
       "    </tr>\n",
       "    <tr>\n",
       "      <th>Oct 25, 2020</th>\n",
       "      <td>2557</td>\n",
       "      <td>2781</td>\n",
       "      <td>2861</td>\n",
       "      <td>1830</td>\n",
       "      <td>2316</td>\n",
       "      <td>1941</td>\n",
       "      <td>1804</td>\n",
       "      <td>1359</td>\n",
       "      <td>1367</td>\n",
       "      <td>1882</td>\n",
       "    </tr>\n",
       "    <tr>\n",
       "      <th>Nov 2, 2020</th>\n",
       "      <td>2310</td>\n",
       "      <td>2794</td>\n",
       "      <td>2900</td>\n",
       "      <td>1830</td>\n",
       "      <td>2316</td>\n",
       "      <td>1982</td>\n",
       "      <td>1814</td>\n",
       "      <td>1348</td>\n",
       "      <td>1358</td>\n",
       "      <td>1929</td>\n",
       "    </tr>\n",
       "  </tbody>\n",
       "</table>\n",
       "</div>"
      ],
      "text/plain": [
       "                newyork - ny  los-angeles-ca  san-francisco-ca  denver-co  \\\n",
       "date                                                                        \n",
       "Aug 30th, 2020          2743            2756              3212       1815   \n",
       "Sept 3rd, 2020          2666            2752              3069       1786   \n",
       "Sept 13, 2020           2474            2747              2945       1807   \n",
       "Sept 20, 2020           2112            2742              3086       1820   \n",
       "Sept 27, 2020           2477            2758              3103       1937   \n",
       "Oct 5, 2020             2491            2775              3007       1803   \n",
       "Oct 25, 2020            2557            2781              2861       1830   \n",
       "Nov 2, 2020             2310            2794              2900       1830   \n",
       "\n",
       "                washington-dc  miami-fl  chicago-il  dallas-tx  austin-tx  \\\n",
       "date                                                                        \n",
       "Aug 30th, 2020           2467      1848        1868       1351       1382   \n",
       "Sept 3rd, 2020           2404      1809        1882       1297       1368   \n",
       "Sept 13, 2020            2400      1838        1878       1346       1356   \n",
       "Sept 20, 2020            2396      1809        1864       1352       1363   \n",
       "Sept 27, 2020            2375      1865        1856       1356       1362   \n",
       "Oct 5, 2020              2353      1894        1837       1348       1363   \n",
       "Oct 25, 2020             2316      1941        1804       1359       1367   \n",
       "Nov 2, 2020              2316      1982        1814       1348       1358   \n",
       "\n",
       "                boulder-co  \n",
       "date                        \n",
       "Aug 30th, 2020        1943  \n",
       "Sept 3rd, 2020        1888  \n",
       "Sept 13, 2020         1864  \n",
       "Sept 20, 2020         1823  \n",
       "Sept 27, 2020         1842  \n",
       "Oct 5, 2020           1900  \n",
       "Oct 25, 2020          1882  \n",
       "Nov 2, 2020           1929  "
      ]
     },
     "execution_count": 22,
     "metadata": {},
     "output_type": "execute_result"
    }
   ],
   "source": [
    "df"
   ]
  },
  {
   "cell_type": "code",
   "execution_count": 23,
   "metadata": {},
   "outputs": [
    {
     "data": {
      "text/html": [
       "<div>\n",
       "<style scoped>\n",
       "    .dataframe tbody tr th:only-of-type {\n",
       "        vertical-align: middle;\n",
       "    }\n",
       "\n",
       "    .dataframe tbody tr th {\n",
       "        vertical-align: top;\n",
       "    }\n",
       "\n",
       "    .dataframe thead th {\n",
       "        text-align: right;\n",
       "    }\n",
       "</style>\n",
       "<table border=\"1\" class=\"dataframe\">\n",
       "  <thead>\n",
       "    <tr style=\"text-align: right;\">\n",
       "      <th></th>\n",
       "      <th>newyork - ny</th>\n",
       "      <th>los-angeles-ca</th>\n",
       "      <th>san-francisco-ca</th>\n",
       "      <th>denver-co</th>\n",
       "      <th>washington-dc</th>\n",
       "      <th>miami-fl</th>\n",
       "      <th>chicago-il</th>\n",
       "      <th>dallas-tx</th>\n",
       "      <th>austin-tx</th>\n",
       "      <th>boulder-co</th>\n",
       "    </tr>\n",
       "    <tr>\n",
       "      <th>date</th>\n",
       "      <th></th>\n",
       "      <th></th>\n",
       "      <th></th>\n",
       "      <th></th>\n",
       "      <th></th>\n",
       "      <th></th>\n",
       "      <th></th>\n",
       "      <th></th>\n",
       "      <th></th>\n",
       "      <th></th>\n",
       "    </tr>\n",
       "  </thead>\n",
       "  <tbody>\n",
       "    <tr>\n",
       "      <th>Aug 30th, 2020</th>\n",
       "      <td>2743</td>\n",
       "      <td>2756</td>\n",
       "      <td>3212</td>\n",
       "      <td>1815</td>\n",
       "      <td>2467</td>\n",
       "      <td>1848</td>\n",
       "      <td>1868</td>\n",
       "      <td>1351</td>\n",
       "      <td>1382</td>\n",
       "      <td>1943</td>\n",
       "    </tr>\n",
       "    <tr>\n",
       "      <th>Sept 3rd, 2020</th>\n",
       "      <td>2666</td>\n",
       "      <td>2752</td>\n",
       "      <td>3069</td>\n",
       "      <td>1786</td>\n",
       "      <td>2404</td>\n",
       "      <td>1809</td>\n",
       "      <td>1882</td>\n",
       "      <td>1297</td>\n",
       "      <td>1368</td>\n",
       "      <td>1888</td>\n",
       "    </tr>\n",
       "    <tr>\n",
       "      <th>Sept 13, 2020</th>\n",
       "      <td>2474</td>\n",
       "      <td>2747</td>\n",
       "      <td>2945</td>\n",
       "      <td>1807</td>\n",
       "      <td>2400</td>\n",
       "      <td>1838</td>\n",
       "      <td>1878</td>\n",
       "      <td>1346</td>\n",
       "      <td>1356</td>\n",
       "      <td>1864</td>\n",
       "    </tr>\n",
       "    <tr>\n",
       "      <th>Sept 20, 2020</th>\n",
       "      <td>2112</td>\n",
       "      <td>2742</td>\n",
       "      <td>3086</td>\n",
       "      <td>1820</td>\n",
       "      <td>2396</td>\n",
       "      <td>1809</td>\n",
       "      <td>1864</td>\n",
       "      <td>1352</td>\n",
       "      <td>1363</td>\n",
       "      <td>1823</td>\n",
       "    </tr>\n",
       "    <tr>\n",
       "      <th>Sept 27, 2020</th>\n",
       "      <td>2477</td>\n",
       "      <td>2758</td>\n",
       "      <td>3103</td>\n",
       "      <td>1937</td>\n",
       "      <td>2375</td>\n",
       "      <td>1865</td>\n",
       "      <td>1856</td>\n",
       "      <td>1356</td>\n",
       "      <td>1362</td>\n",
       "      <td>1842</td>\n",
       "    </tr>\n",
       "    <tr>\n",
       "      <th>Oct 5, 2020</th>\n",
       "      <td>2491</td>\n",
       "      <td>2775</td>\n",
       "      <td>3007</td>\n",
       "      <td>1803</td>\n",
       "      <td>2353</td>\n",
       "      <td>1894</td>\n",
       "      <td>1837</td>\n",
       "      <td>1348</td>\n",
       "      <td>1363</td>\n",
       "      <td>1900</td>\n",
       "    </tr>\n",
       "    <tr>\n",
       "      <th>Oct 25, 2020</th>\n",
       "      <td>2557</td>\n",
       "      <td>2781</td>\n",
       "      <td>2861</td>\n",
       "      <td>1830</td>\n",
       "      <td>2316</td>\n",
       "      <td>1941</td>\n",
       "      <td>1804</td>\n",
       "      <td>1359</td>\n",
       "      <td>1367</td>\n",
       "      <td>1882</td>\n",
       "    </tr>\n",
       "    <tr>\n",
       "      <th>Nov 2, 2020</th>\n",
       "      <td>2310</td>\n",
       "      <td>2794</td>\n",
       "      <td>2900</td>\n",
       "      <td>1830</td>\n",
       "      <td>2316</td>\n",
       "      <td>1982</td>\n",
       "      <td>1814</td>\n",
       "      <td>1348</td>\n",
       "      <td>1358</td>\n",
       "      <td>1929</td>\n",
       "    </tr>\n",
       "  </tbody>\n",
       "</table>\n",
       "</div>"
      ],
      "text/plain": [
       "                newyork - ny  los-angeles-ca  san-francisco-ca  denver-co  \\\n",
       "date                                                                        \n",
       "Aug 30th, 2020          2743            2756              3212       1815   \n",
       "Sept 3rd, 2020          2666            2752              3069       1786   \n",
       "Sept 13, 2020           2474            2747              2945       1807   \n",
       "Sept 20, 2020           2112            2742              3086       1820   \n",
       "Sept 27, 2020           2477            2758              3103       1937   \n",
       "Oct 5, 2020             2491            2775              3007       1803   \n",
       "Oct 25, 2020            2557            2781              2861       1830   \n",
       "Nov 2, 2020             2310            2794              2900       1830   \n",
       "\n",
       "                washington-dc  miami-fl  chicago-il  dallas-tx  austin-tx  \\\n",
       "date                                                                        \n",
       "Aug 30th, 2020           2467      1848        1868       1351       1382   \n",
       "Sept 3rd, 2020           2404      1809        1882       1297       1368   \n",
       "Sept 13, 2020            2400      1838        1878       1346       1356   \n",
       "Sept 20, 2020            2396      1809        1864       1352       1363   \n",
       "Sept 27, 2020            2375      1865        1856       1356       1362   \n",
       "Oct 5, 2020              2353      1894        1837       1348       1363   \n",
       "Oct 25, 2020             2316      1941        1804       1359       1367   \n",
       "Nov 2, 2020              2316      1982        1814       1348       1358   \n",
       "\n",
       "                boulder-co  \n",
       "date                        \n",
       "Aug 30th, 2020        1943  \n",
       "Sept 3rd, 2020        1888  \n",
       "Sept 13, 2020         1864  \n",
       "Sept 20, 2020         1823  \n",
       "Sept 27, 2020         1842  \n",
       "Oct 5, 2020           1900  \n",
       "Oct 25, 2020          1882  \n",
       "Nov 2, 2020           1929  "
      ]
     },
     "execution_count": 23,
     "metadata": {},
     "output_type": "execute_result"
    }
   ],
   "source": [
    "df"
   ]
  },
  {
   "cell_type": "code",
   "execution_count": 24,
   "metadata": {},
   "outputs": [
    {
     "data": {
      "image/png": "[encoded data removed]",
      "text/plain": [
       "<Figure size 842.4x595.44 with 1 Axes>"
      ]
     },
     "metadata": {
      "needs_background": "light"
     },
     "output_type": "display_data"
    }
   ],
   "source": [
    "fig, ax = plt.subplots(figsize=a4_dims)\n",
    "sns.color_palette(\"tab10\")\n",
    "sns.set_style(\"ticks\")\n",
    "sns.lineplot(ax=ax, data=df,palette='tab10',dashes=False).set_title('Changes in Rent for 10 Major US Cities')\n",
    "plt.show()"
   ]
  },
  {
   "cell_type": "code",
   "execution_count": null,
   "metadata": {},
   "outputs": [],
   "source": []
  },
  {
   "cell_type": "code",
   "execution_count": null,
   "metadata": {},
   "outputs": [],
   "source": [
    "\n"
   ]
  },
  {
   "cell_type": "code",
   "execution_count": null,
   "metadata": {},
   "outputs": [],
   "source": []
  },
  {
   "cell_type": "code",
   "execution_count": null,
   "metadata": {},
   "outputs": [],
   "source": []
  }
 ],
 "metadata": {
  "kernelspec": {
   "display_name": "Python 3",
   "language": "python",
   "name": "python3"
  },
  "language_info": {
   "codemirror_mode": {
    "name": "ipython",
    "version": 3
   },
   "file_extension": ".py",
   "mimetype": "text/x-python",
   "name": "python",
   "nbconvert_exporter": "python",
   "pygments_lexer": "ipython3",
   "version": "3.8.5"
  }
 },
 "nbformat": 4,
 "nbformat_minor": 4
}
